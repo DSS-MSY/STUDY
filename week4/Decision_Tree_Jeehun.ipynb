{
 "cells": [
  {
   "cell_type": "code",
   "execution_count": 25,
   "metadata": {},
   "outputs": [],
   "source": [
    "# importing package\n",
    "import numpy as np\n",
    "import math\n",
    "import pandas as pd\n",
    "from math import log\n",
    "\n",
    "\n",
    "# make sample\n",
    "def MakeSample():\n",
    "    dataSet = np.array([[0, 1, 1, 'yes'],\n",
    "                        [0, 1, 0, 'no'],\n",
    "                        [1, 0, 1, 'no'],\n",
    "                        [1, 1, 1, 'no'],\n",
    "                        [0, 1, 0, 'no'],\n",
    "                        [0, 0, 1, 'no'],\n",
    "                        [1, 0, 1, 'no'],\n",
    "                        [1, 1, 0, 'no']])\n",
    "\n",
    "    labels = ['cartoon', 'winter', 'more than 1 person']\n",
    "    \n",
    "    return dataSet, labels\n",
    "\n",
    "\n",
    "# calculate base entropy\n",
    "def BaseEnt(dataSet):\n",
    "    label = dataSet[:, -1] #choose label from dataSet\n",
    "    prob = []\n",
    "    BaseEnt = []\n",
    "    for i in pd.unique(label):\n",
    "        prob.append(len(label[label == i]) / len(label))\n",
    "\n",
    "#    for j in range(len(prob)):\n",
    "#        temp = prob.pop()\n",
    "#        BaseEnt.append(-temp*(math.log2(temp))-temp*(math.log2(temp)))\n",
    "\n",
    "    BaseEnt = -prob[0]*math.log2(prob[0])-prob[1]*math.log2(prob[1])\n",
    "\n",
    "    return label, prob, BaseEnt\n",
    "\n",
    "\n",
    "# calculate shannon entropy\n",
    "def Cal_Ent(dataSet):\n",
    "    label = dataSet[:, -1]\n",
    "    labelcount = {}\n",
    "    shannon = 0.0\n",
    "    \n",
    "    for i in pd.unique(label):\n",
    "        labelcount[i] = len(label[label == i])\n",
    "\n",
    "    for key in labelcount:\n",
    "        prob = labelcount[key]/len(dataSet)\n",
    "        shannon -= prob*math.log2(prob)\n",
    "    \n",
    "    return shannon\n",
    "\n",
    "\n",
    "# seperate dataset\n",
    "def splitdata(dataSet, axis, value):\n",
    "    col = np.arange(len(dataSet[0]))\n",
    "    temp = dataSet[dataSet[:, axis] == value]\n",
    "    temp = temp[:, tuple(col[col!=axis])]\n",
    "    \n",
    "    return temp\n",
    "\n",
    "\n",
    "# select best feature\n",
    "def selectfeature(dataSet):\n",
    "    baseEnt = Cal_Ent(dataSet)\n",
    "    featurelist = len(dataSet[0])-1\n",
    "    TempEnt = 0.0\n",
    "    infogain = 0.0\n",
    "    bestinfogain = 0.0\n",
    "    bestfeather = 0\n",
    "    \n",
    "    for i in range(featurelist):\n",
    "        uniquevalue = pd.unique(dataset[i, :-1])\n",
    "        for j in uniquevalue:\n",
    "            subdata = splitdata(dataSet, i, j)\n",
    "            TempEnt += Cal_Ent(subdata)\n",
    "\n",
    "        infogain = baseEnt - TempEnt\n",
    "        if(infogain > bestinfogain):\n",
    "            bestinfogain = infogain\n",
    "            bestfeather = i\n",
    "    \n",
    "    return bestfeather\n",
    "\n"
   ]
  },
  {
   "cell_type": "code",
   "execution_count": 26,
   "metadata": {},
   "outputs": [],
   "source": [
    "dataset, labels = MakeSample()\n",
    "label, prob, baseent = BaseEnt(dataset)\n",
    "shannon = Cal_Ent(dataset)\n",
    "temp = splitdata(dataset, 0, \"1\")"
   ]
  },
  {
   "cell_type": "code",
   "execution_count": 428,
   "metadata": {},
   "outputs": [
    {
     "data": {
      "text/plain": [
       "0.5435644431995964"
      ]
     },
     "execution_count": 428,
     "metadata": {},
     "output_type": "execute_result"
    }
   ],
   "source": [
    "shannon"
   ]
  },
  {
   "cell_type": "code",
   "execution_count": 43,
   "metadata": {},
   "outputs": [
    {
     "data": {
      "text/plain": [
       "array([['0', '1', '1', 'yes'],\n",
       "       ['0', '1', '0', 'no'],\n",
       "       ['1', '0', '1', 'no'],\n",
       "       ['1', '1', '1', 'no'],\n",
       "       ['0', '1', '0', 'no'],\n",
       "       ['0', '0', '1', 'no'],\n",
       "       ['1', '0', '1', 'no'],\n",
       "       ['1', '1', '0', 'no']],\n",
       "      dtype='<U11')"
      ]
     },
     "execution_count": 43,
     "metadata": {},
     "output_type": "execute_result"
    }
   ],
   "source": [
    "dataset"
   ]
  },
  {
   "cell_type": "code",
   "execution_count": 40,
   "metadata": {},
   "outputs": [
    {
     "data": {
      "text/plain": [
       "array(['1', '1', '0', '1', '1', '0', '0', '1'],\n",
       "      dtype='<U11')"
      ]
     },
     "execution_count": 40,
     "metadata": {},
     "output_type": "execute_result"
    }
   ],
   "source": [
    "dataset[:, 1]"
   ]
  },
  {
   "cell_type": "code",
   "execution_count": 36,
   "metadata": {},
   "outputs": [
    {
     "data": {
      "text/plain": [
       "array(['1', '0'], dtype=object)"
      ]
     },
     "execution_count": 36,
     "metadata": {},
     "output_type": "execute_result"
    }
   ],
   "source": [
    "pd.unique(dataset[:, 1])"
   ]
  },
  {
   "cell_type": "code",
   "execution_count": null,
   "metadata": {},
   "outputs": [],
   "source": []
  },
  {
   "cell_type": "markdown",
   "metadata": {},
   "source": [
    "---"
   ]
  },
  {
   "cell_type": "code",
   "execution_count": 1,
   "metadata": {},
   "outputs": [],
   "source": [
    "# importing package\n",
    "import numpy as np\n",
    "import math\n",
    "import pandas as pd\n",
    "from math import log"
   ]
  },
  {
   "cell_type": "code",
   "execution_count": 69,
   "metadata": {},
   "outputs": [],
   "source": [
    "# make sample\n",
    "def make_sample():\n",
    "    dataset = np.array([[0, 1, 1, 'yes'],\n",
    "                        [0, 1, 0, 'no'],\n",
    "                        [1, 0, 1, 'no'],\n",
    "                        [1, 1, 1, 'no'],\n",
    "                        [0, 1, 0, 'no'],\n",
    "                        [0, 0, 1, 'no'],\n",
    "                        [1, 0, 1, 'no'],\n",
    "                        [1, 1, 0, 'no']])\n",
    "    \n",
    "    y = dataset[:, -1]\n",
    "\n",
    "    labels = ['cartoon', 'winter', 'more than 1 person']\n",
    "    \n",
    "    return dataset, y, labels"
   ]
  },
  {
   "cell_type": "code",
   "execution_count": 74,
   "metadata": {},
   "outputs": [],
   "source": [
    "def cal_ent(data_col, y):\n",
    "    label = pd.unique(data_col)\n",
    "    ent = 0.0\n",
    "    for i in label:\n",
    "        sep_temp = y[data_col==i]\n",
    "        node = pd.unique(sep_temp)\n",
    "        for j in node:\n",
    "            prob = len(sep_temp[sep_temp==j])/len(sep_temp)\n",
    "            ent -= prob * np.log2(prob)\n",
    "\n",
    "    return ent/len(label)"
   ]
  },
  {
   "cell_type": "code",
   "execution_count": 77,
   "metadata": {},
   "outputs": [],
   "source": [
    "def select_feat(dataset):\n",
    "    baseent = 0.0\n",
    "    feature = 0\n",
    "    for i in range(len(dataset[0])):\n",
    "        ent = cal_ent(dataset[:, i], y)\n",
    "        if(ent > baseent):\n",
    "            baseent = ent\n",
    "            feature = i\n",
    "\n",
    "    return feature"
   ]
  },
  {
   "cell_type": "code",
   "execution_count": 72,
   "metadata": {},
   "outputs": [],
   "source": [
    "dataset, y, labels = make_sample()"
   ]
  },
  {
   "cell_type": "code",
   "execution_count": 75,
   "metadata": {},
   "outputs": [
    {
     "name": "stdout",
     "output_type": "stream",
     "text": [
      "0 no 0.811278124459\n",
      "1 no 0.811278124459\n"
     ]
    },
    {
     "data": {
      "text/plain": [
       "0.40563906222956642"
      ]
     },
     "execution_count": 75,
     "metadata": {},
     "output_type": "execute_result"
    }
   ],
   "source": [
    "cal_ent(dataset[:, 0], y)"
   ]
  },
  {
   "cell_type": "code",
   "execution_count": 78,
   "metadata": {},
   "outputs": [
    {
     "name": "stdout",
     "output_type": "stream",
     "text": [
      "0 no 0.811278124459\n",
      "1 no 0.811278124459\n",
      "1 no 0.721928094887\n",
      "0 no 0.721928094887\n",
      "1 no 0.721928094887\n",
      "0 no 0.721928094887\n",
      "yes yes 0.0\n",
      "no no 0.0\n"
     ]
    },
    {
     "data": {
      "text/plain": [
       "0"
      ]
     },
     "execution_count": 78,
     "metadata": {},
     "output_type": "execute_result"
    }
   ],
   "source": [
    "select_feat(dataset)"
   ]
  },
  {
   "cell_type": "code",
   "execution_count": null,
   "metadata": {},
   "outputs": [],
   "source": []
  }
 ],
 "metadata": {
  "kernelspec": {
   "display_name": "Python 3",
   "language": "python",
   "name": "python3"
  },
  "language_info": {
   "codemirror_mode": {
    "name": "ipython",
    "version": 3
   },
   "file_extension": ".py",
   "mimetype": "text/x-python",
   "name": "python",
   "nbconvert_exporter": "python",
   "pygments_lexer": "ipython3",
   "version": "3.6.2"
  }
 },
 "nbformat": 4,
 "nbformat_minor": 2
}
