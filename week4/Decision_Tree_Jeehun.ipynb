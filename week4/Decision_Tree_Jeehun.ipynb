{
 "cells": [
  {
   "cell_type": "code",
   "execution_count": 25,
   "metadata": {},
   "outputs": [],
   "source": [
    "# importing package\n",
    "import numpy as np\n",
    "import math\n",
    "import pandas as pd\n",
    "from math import log\n",
    "\n",
    "\n",
    "# make sample\n",
    "def MakeSample():\n",
    "    dataSet = np.array([[0, 1, 1, 'yes'],\n",
    "                        [0, 1, 0, 'no'],\n",
    "                        [1, 0, 1, 'no'],\n",
    "                        [1, 1, 1, 'no'],\n",
    "                        [0, 1, 0, 'no'],\n",
    "                        [0, 0, 1, 'no'],\n",
    "                        [1, 0, 1, 'no'],\n",
    "                        [1, 1, 0, 'no']])\n",
    "\n",
    "    labels = ['cartoon', 'winter', 'more than 1 person']\n",
    "    \n",
    "    return dataSet, labels\n",
    "\n",
    "\n",
    "# calculate base entropy\n",
    "def BaseEnt(dataSet):\n",
    "    label = dataSet[:, -1] #choose label from dataSet\n",
    "    prob = []\n",
    "    BaseEnt = []\n",
    "    for i in pd.unique(label):\n",
    "        prob.append(len(label[label == i]) / len(label))\n",
    "\n",
    "#    for j in range(len(prob)):\n",
    "#        temp = prob.pop()\n",
    "#        BaseEnt.append(-temp*(math.log2(temp))-temp*(math.log2(temp)))\n",
    "\n",
    "    BaseEnt = -prob[0]*math.log2(prob[0])-prob[1]*math.log2(prob[1])\n",
    "\n",
    "    return label, prob, BaseEnt\n",
    "\n",
    "\n",
    "# calculate shannon entropy\n",
    "def Cal_Ent(dataSet):\n",
    "    label = dataSet[:, -1]\n",
    "    labelcount = {}\n",
    "    shannon = 0.0\n",
    "    \n",
    "    for i in pd.unique(label):\n",
    "        labelcount[i] = len(label[label == i])\n",
    "\n",
    "    for key in labelcount:\n",
    "        prob = labelcount[key]/len(dataSet)\n",
    "        shannon -= prob*math.log2(prob)\n",
    "    \n",
    "    return shannon\n",
    "\n",
    "\n",
    "# seperate dataset\n",
    "def splitdata(dataSet, axis, value):\n",
    "    col = np.arange(len(dataSet[0]))\n",
    "    temp = dataSet[dataSet[:, axis] == value]\n",
    "    temp = temp[:, tuple(col[col!=axis])]\n",
    "    \n",
    "    return temp\n",
    "\n",
    "\n",
    "# select best feature\n",
    "def selectfeature(dataSet):\n",
    "    baseEnt = Cal_Ent(dataSet)\n",
    "    featurelist = len(dataSet[0])-1\n",
    "    TempEnt = 0.0\n",
    "    infogain = 0.0\n",
    "    bestinfogain = 0.0\n",
    "    bestfeather = 0\n",
    "    \n",
    "    for i in range(featurelist):\n",
    "        uniquevalue = pd.unique(dataset[i, :-1])\n",
    "        for j in uniquevalue:\n",
    "            subdata = splitdata(dataSet, i, j)\n",
    "            TempEnt += Cal_Ent(subdata)\n",
    "\n",
    "        infogain = baseEnt - TempEnt\n",
    "        if(infogain > bestinfogain):\n",
    "            bestinfogain = infogain\n",
    "            bestfeather = i\n",
    "    \n",
    "    return bestfeather\n",
    "\n"
   ]
  },
  {
   "cell_type": "code",
   "execution_count": 26,
   "metadata": {},
   "outputs": [],
   "source": [
    "dataset, labels = MakeSample()\n",
    "label, prob, baseent = BaseEnt(dataset)\n",
    "shannon = Cal_Ent(dataset)\n",
    "temp = splitdata(dataset, 0, \"1\")"
   ]
  },
  {
   "cell_type": "code",
   "execution_count": 428,
   "metadata": {},
   "outputs": [
    {
     "data": {
      "text/plain": [
       "0.5435644431995964"
      ]
     },
     "execution_count": 428,
     "metadata": {},
     "output_type": "execute_result"
    }
   ],
   "source": [
    "shannon"
   ]
  },
  {
   "cell_type": "code",
   "execution_count": 40,
   "metadata": {},
   "outputs": [
    {
     "data": {
      "text/plain": [
       "array(['1', '1', '0', '1', '1', '0', '0', '1'],\n",
       "      dtype='<U11')"
      ]
     },
     "execution_count": 40,
     "metadata": {},
     "output_type": "execute_result"
    }
   ],
   "source": [
    "dataset[:, 1]"
   ]
  },
  {
   "cell_type": "code",
   "execution_count": 36,
   "metadata": {},
   "outputs": [
    {
     "data": {
      "text/plain": [
       "array(['1', '0'], dtype=object)"
      ]
     },
     "execution_count": 36,
     "metadata": {},
     "output_type": "execute_result"
    }
   ],
   "source": [
    "pd.unique(dataset[:, 1])"
   ]
  },
  {
   "cell_type": "code",
   "execution_count": null,
   "metadata": {},
   "outputs": [],
   "source": []
  },
  {
   "cell_type": "markdown",
   "metadata": {},
   "source": [
    "---"
   ]
  },
  {
   "cell_type": "code",
   "execution_count": 3,
   "metadata": {},
   "outputs": [],
   "source": [
    "# importing package\n",
    "import numpy as np\n",
    "import math\n",
    "import pandas as pd\n",
    "from math import log"
   ]
  },
  {
   "cell_type": "code",
   "execution_count": 5,
   "metadata": {},
   "outputs": [],
   "source": [
    "# make sample\n",
    "def make_sample():\n",
    "    dataset = np.array([[0, 1, 1, 'yes'],\n",
    "                        [0, 1, 0, 'no'],\n",
    "                        [1, 0, 1, 'no'],\n",
    "                        [1, 1, 1, 'no'],\n",
    "                        [0, 1, 0, 'no'],\n",
    "                        [0, 0, 1, 'no'],\n",
    "                        [1, 0, 1, 'no'],\n",
    "                        [1, 1, 0, 'no']])\n",
    "    \n",
    "    y = dataset[:, -1]\n",
    "\n",
    "    labels = ['cartoon', 'winter', 'more than 1 person']\n",
    "    \n",
    "    return dataset, y, labels"
   ]
  },
  {
   "cell_type": "code",
   "execution_count": 6,
   "metadata": {},
   "outputs": [],
   "source": [
    "def cal_ent(data_col, y):\n",
    "    label = pd.unique(data_col)\n",
    "    ent = 0.0\n",
    "    \n",
    "    for i in label:\n",
    "        node = y[data_col==i]\n",
    "        node_label = pd.unique(node)\n",
    "        for j in node_label:\n",
    "            prob = len(node[node==j]) / len(node)\n",
    "            ent -= prob * np.log2(prob)\n",
    "\n",
    "    return ent / len(label)"
   ]
  },
  {
   "cell_type": "code",
   "execution_count": 7,
   "metadata": {},
   "outputs": [],
   "source": [
    "def cal_base_ent(dataset):\n",
    "    base = dataset[:, -1]\n",
    "    label = pd.unique(base)\n",
    "    ent = 0.0\n",
    "    \n",
    "    for i in range(len(label)):\n",
    "        prob = len(base[base == label[i]]) / len(base)\n",
    "        ent -= prob * np.log2(prob)\n",
    "\n",
    "    return ent"
   ]
  },
  {
   "cell_type": "code",
   "execution_count": 8,
   "metadata": {},
   "outputs": [],
   "source": [
    "def select_feat(dataset, y):\n",
    "#    ent = cal_base_ent(dataset)\n",
    "    info_gain = []\n",
    "    \n",
    "    for i in range(len(dataset[0])-1):\n",
    "#        info_gain.append(ent - cal_ent(dataset[:, i], y))\n",
    "        info_gain.append(cal_ent(dataset[:, i], y))\n",
    "    \n",
    "    feat = info_gain.index(sorted(info_gain)[0])\n",
    "#    feat = info_gain.index(sorted(info_gain, reverse=True)[0])\n",
    "    \n",
    "    return feat, info_gain"
   ]
  },
  {
   "cell_type": "code",
   "execution_count": 27,
   "metadata": {},
   "outputs": [],
   "source": [
    "def trim_data(dataset, feat):\n",
    "    col = np.arange(len(dataset[0]))\n",
    "    trim_data = dataset[:, col!=feat]\n",
    "    \n",
    "    return trim_data"
   ]
  },
  {
   "cell_type": "code",
   "execution_count": 28,
   "metadata": {},
   "outputs": [],
   "source": [
    "def create_tree(dataset, labels):\n",
    "    if len(dataset[0])==1:\n",
    "        \n",
    "    feat = select_feat(dataset)\n",
    "    trim_data = trim_data(dataset, feat)\n",
    "    \n",
    "    return trim_data"
   ]
  },
  {
   "cell_type": "code",
   "execution_count": 10,
   "metadata": {},
   "outputs": [],
   "source": [
    "dataset, y, labels = make_sample()"
   ]
  },
  {
   "cell_type": "code",
   "execution_count": 11,
   "metadata": {},
   "outputs": [
    {
     "data": {
      "text/plain": [
       "(1, [0.40563906222956642, 0.36096404744368116, 0.36096404744368116])"
      ]
     },
     "execution_count": 11,
     "metadata": {},
     "output_type": "execute_result"
    }
   ],
   "source": [
    "select_feat(dataset, y)"
   ]
  },
  {
   "cell_type": "code",
   "execution_count": 38,
   "metadata": {},
   "outputs": [],
   "source": []
  },
  {
   "cell_type": "code",
   "execution_count": 46,
   "metadata": {},
   "outputs": [
    {
     "data": {
      "text/plain": [
       "4"
      ]
     },
     "execution_count": 46,
     "metadata": {},
     "output_type": "execute_result"
    }
   ],
   "source": [
    "len(dataset[0])"
   ]
  },
  {
   "cell_type": "code",
   "execution_count": 41,
   "metadata": {},
   "outputs": [
    {
     "data": {
      "text/plain": [
       "0"
      ]
     },
     "execution_count": 41,
     "metadata": {},
     "output_type": "execute_result"
    }
   ],
   "source": [
    "dataset."
   ]
  },
  {
   "cell_type": "code",
   "execution_count": 44,
   "metadata": {},
   "outputs": [
    {
     "name": "stderr",
     "output_type": "stream",
     "text": [
      "c:\\programdata\\anaconda3\\lib\\site-packages\\ipykernel_launcher.py:1: FutureWarning: elementwise comparison failed; returning scalar instead, but in the future will perform elementwise comparison\n",
      "  \"\"\"Entry point for launching an IPython kernel.\n"
     ]
    },
    {
     "data": {
      "text/plain": [
       "array([[['0', '1', '1', 'yes']],\n",
       "\n",
       "       [['0', '1', '0', 'no']],\n",
       "\n",
       "       [['1', '0', '1', 'no']],\n",
       "\n",
       "       [['1', '1', '1', 'no']],\n",
       "\n",
       "       [['0', '1', '0', 'no']],\n",
       "\n",
       "       [['0', '0', '1', 'no']],\n",
       "\n",
       "       [['1', '0', '1', 'no']],\n",
       "\n",
       "       [['1', '1', '0', 'no']]],\n",
       "      dtype='<U11')"
      ]
     },
     "execution_count": 44,
     "metadata": {},
     "output_type": "execute_result"
    }
   ],
   "source": []
  },
  {
   "cell_type": "code",
   "execution_count": null,
   "metadata": {},
   "outputs": [],
   "source": []
  },
  {
   "cell_type": "code",
   "execution_count": null,
   "metadata": {},
   "outputs": [],
   "source": []
  }
 ],
 "metadata": {
  "kernelspec": {
   "display_name": "Python 3",
   "language": "python",
   "name": "python3"
  },
  "language_info": {
   "codemirror_mode": {
    "name": "ipython",
    "version": 3
   },
   "file_extension": ".py",
   "mimetype": "text/x-python",
   "name": "python",
   "nbconvert_exporter": "python",
   "pygments_lexer": "ipython3",
   "version": "3.6.2"
  }
 },
 "nbformat": 4,
 "nbformat_minor": 2
}
