{
 "cells": [
  {
   "cell_type": "code",
   "execution_count": 115,
   "metadata": {},
   "outputs": [],
   "source": [
    "# importing package\n",
    "import numpy as np\n",
    "import math\n",
    "import pandas as pd\n",
    "\n",
    "# make sample\n",
    "def MakeSample():\n",
    "    dataSet = np.array([[0, 1, 1, 'yes'],\n",
    "                        [0, 1, 0, 'no'],\n",
    "                        [1, 0, 1, 'no'],\n",
    "                        [1, 1, 1, 'no'],\n",
    "                        [0, 1, 0, 'no'],\n",
    "                        [0, 0, 1, 'no'],\n",
    "                        [1, 0, 1, 'no'],\n",
    "                        [1, 1, 0, 'no']])\n",
    "\n",
    "    labels = ['cartoon', 'winter', 'more than 1 person']\n",
    "    \n",
    "    return dataSet, labels\n",
    "\n",
    "# calculate base entropy\n",
    "def BaseEnt(dataSet):\n",
    "    label = dataSet[:, -1] #choose label from dataSet\n",
    "    prob = []\n",
    "    BaseEnt = []\n",
    "    for i in pd.unique(label):\n",
    "        prob.append(len(label[label == i]) / len(label))\n",
    "\n",
    "#    for j in range(len(pos)):\n",
    "#        temp = pos.pop()\n",
    "#        BaseEnt.append(-temp*(math.log2(temp))-temp*(math.log2(temp)))\n",
    "\n",
    "    BaseEnt = -prob[0]*math.log2(prob[0])-prob[1]*math.log2(prob[1])\n",
    "\n",
    "    return label, prob, BaseEnt\n",
    "\n",
    "# calculate shannon entropy\n",
    "def Shannon(dataSet):\n",
    "    label = dataSet[:, -1]\n",
    "    labelcount = {}\n",
    "    shannon = 0.0\n",
    "    \n",
    "    for i in pd.unique(label):\n",
    "        labelcount[i] = len(label[label == i])\n",
    "\n",
    "#    for key in labelcount:\n",
    "#        prob = labelcount[key]/len(dataSet)\n",
    "#        shannon.append(-prob*math.log2(prob))\n",
    "#    np.sum(shannon)\n",
    "\n",
    "    for key in labelcount:\n",
    "        prob = labelcount[key]/len(dataSet)\n",
    "        shannon -= prob*math.log2(prob)\n",
    "    \n",
    "    return labelcount, shannon"
   ]
  },
  {
   "cell_type": "code",
   "execution_count": 116,
   "metadata": {},
   "outputs": [],
   "source": [
    "dataset, labels = MakeSample()\n",
    "label, prob, baseent = BaseEnt(dataset)\n",
    "labelcount, shannon = Shannon(dataset)"
   ]
  },
  {
   "cell_type": "code",
   "execution_count": null,
   "metadata": {},
   "outputs": [],
   "source": []
  }
 ],
 "metadata": {
  "kernelspec": {
   "display_name": "Python 3",
   "language": "python",
   "name": "python3"
  },
  "language_info": {
   "codemirror_mode": {
    "name": "ipython",
    "version": 3
   },
   "file_extension": ".py",
   "mimetype": "text/x-python",
   "name": "python",
   "nbconvert_exporter": "python",
   "pygments_lexer": "ipython3",
   "version": "3.6.2"
  }
 },
 "nbformat": 4,
 "nbformat_minor": 2
}
