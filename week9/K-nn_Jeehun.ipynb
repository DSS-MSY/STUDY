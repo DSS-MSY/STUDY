{
 "cells": [
  {
   "cell_type": "markdown",
   "metadata": {},
   "source": [
    "---"
   ]
  },
  {
   "cell_type": "markdown",
   "metadata": {},
   "source": [
    "# k-nearest neighbors algorithm(k-nn, k 최근접 이웃)\n",
    "2017.12.02 <br>\n",
    "박지훈"
   ]
  },
  {
   "cell_type": "markdown",
   "metadata": {},
   "source": [
    "---"
   ]
  },
  {
   "cell_type": "markdown",
   "metadata": {},
   "source": [
    "__k-nearest neighbors(k-nn, k 최근접 이웃)__: 분류나 회귀에 사용되는 비모수 방식의 알고리즘이다. 분류를 해야하는 새로운 데이터가 들어왔을때 어떤 그룹에 속하는지 판단한다. 기본적으로 어느 그룹에 가까운지를 판단하여 분류를 수행한다. 이를 위해 k라는 하이퍼 파라미터를 설정하는데 이는 분류해야하는 데이터로부터 k번째로 가까운 데이터를 추출할때 사용된다. 첫번째 부터 k번째로 가까운 데이터를 가지고 그 데이터들이 어느 그룹에 속해있는지로 새로운 데이터의 그룹을 판단한다. <br>\n",
    "\n",
    "__유클리드거리__: 좌표평면상에서 두 점의 거리를 구할때 사용되는 방식이다. 이를 수행할때 정규화를 실시하면 나은 결과를 얻을 수 있다. "
   ]
  },
  {
   "cell_type": "markdown",
   "metadata": {},
   "source": [
    "---"
   ]
  },
  {
   "cell_type": "code",
   "execution_count": 104,
   "metadata": {
    "collapsed": true
   },
   "outputs": [],
   "source": [
    "# import packagae\n",
    "import numpy as np\n",
    "import matplotlib.pyplot as plt"
   ]
  },
  {
   "cell_type": "code",
   "execution_count": 3,
   "metadata": {
    "collapsed": true
   },
   "outputs": [],
   "source": [
    "# generage sample data\n",
    "data_1 = np.random.normal(10, 5, [10, 3]) # 샘플데이터 1\n",
    "data_0 = np.random.normal(-10, 5, [10, 3]) # 샘플데이터 0\n",
    "\n",
    "data_1[:, 2] = 1 # 라벨 1\n",
    "data_0[:, 2] = 0 # 라벨 0\n",
    "\n",
    "dataset = np.vstack((data_1, data_0)) # 데이터 병합"
   ]
  },
  {
   "cell_type": "code",
   "execution_count": 115,
   "metadata": {},
   "outputs": [
    {
     "data": {
      "image/png": "[encoded data removed]",
      "text/plain": [
       "<matplotlib.figure.Figure at 0x1b5b1c59c88>"
      ]
     },
     "metadata": {},
     "output_type": "display_data"
    }
   ],
   "source": [
    "# visualization\n",
    "plt.style.use(\"ggplot\")\n",
    "plt.scatter(data_0[:, 0], data_0[:, 1], label=\"0\", marker=\"o\")\n",
    "plt.scatter(data_1[:, 0], data_1[:, 1], label=\"1\", marker=\"x\")\n",
    "plt.legend(loc=\"lower right\")\n",
    "plt.show()"
   ]
  },
  {
   "cell_type": "code",
   "execution_count": 116,
   "metadata": {},
   "outputs": [
    {
     "data": {
      "image/png": "[encoded data removed]",
      "text/plain": [
       "<matplotlib.figure.Figure at 0x1b5b1c59748>"
      ]
     },
     "metadata": {},
     "output_type": "display_data"
    }
   ],
   "source": [
    "plt.scatter(dataset[:, 0], dataset[:, 1], c=dataset[:, 2], cmap=\"Set1\")\n",
    "plt.show()"
   ]
  },
  {
   "cell_type": "code",
   "execution_count": 117,
   "metadata": {
    "collapsed": true
   },
   "outputs": [],
   "source": [
    "# k-nn 구현\n",
    "def KNN(dataset, K, class_data):\n",
    "    label = dataset[:, -1]\n",
    "    row_len = dataset.shape[0]\n",
    "    col_len = dataset.shape[1]\n",
    "    \n",
    "#    tile = np.tile(class_data, row_len).reshape(row_len, col_len)\n",
    "    \n",
    "#    dist_1 = np.sum((dataset[:, :-1]-tile)**2, 1)\n",
    "    dist = np.sum((dataset[:, :-1]-class_data)**2, 1)\n",
    "\n",
    "    vote = {1:np.count_nonzero(label[dist.argsort()][:K]), 0:K-np.count_nonzero(label[dist.argsort()][:K])}\n",
    "    result = max(vote, key=vote.get)\n",
    "    \n",
    "    return vote, result"
   ]
  },
  {
   "cell_type": "code",
   "execution_count": 118,
   "metadata": {
    "collapsed": true
   },
   "outputs": [],
   "source": [
    "vote, result = KNN(dataset, 3, [2, 2])"
   ]
  },
  {
   "cell_type": "code",
   "execution_count": 119,
   "metadata": {},
   "outputs": [
    {
     "data": {
      "text/plain": [
       "({0: 1, 1: 2}, 1)"
      ]
     },
     "execution_count": 119,
     "metadata": {},
     "output_type": "execute_result"
    }
   ],
   "source": [
    "KNN(dataset, 3, [2, 2])"
   ]
  },
  {
   "cell_type": "code",
   "execution_count": 120,
   "metadata": {},
   "outputs": [
    {
     "data": {
      "image/png": "[encoded data removed]",
      "text/plain": [
       "<matplotlib.figure.Figure at 0x1b5b1962be0>"
      ]
     },
     "metadata": {},
     "output_type": "display_data"
    }
   ],
   "source": [
    "plt.scatter(data_0[:, 0], data_0[:, 1], label=\"0\", marker=\"o\")\n",
    "plt.scatter(data_1[:, 0], data_1[:, 1], label=\"1\", marker=\"x\")\n",
    "plt.scatter(2, 2, label=\"new\", marker=\"D\")\n",
    "plt.legend(loc=\"lower right\")\n",
    "plt.show()"
   ]
  },
  {
   "cell_type": "code",
   "execution_count": null,
   "metadata": {
    "collapsed": true
   },
   "outputs": [],
   "source": []
  }
 ],
 "metadata": {
  "kernelspec": {
   "display_name": "Python 3",
   "language": "python",
   "name": "python3"
  },
  "language_info": {
   "codemirror_mode": {
    "name": "ipython",
    "version": 3
   },
   "file_extension": ".py",
   "mimetype": "text/x-python",
   "name": "python",
   "nbconvert_exporter": "python",
   "pygments_lexer": "ipython3",
   "version": "3.6.3"
  }
 },
 "nbformat": 4,
 "nbformat_minor": 2
}
