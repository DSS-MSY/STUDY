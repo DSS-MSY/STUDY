{
 "cells": [
  {
   "cell_type": "markdown",
   "metadata": {},
   "source": [
    "---"
   ]
  },
  {
   "cell_type": "markdown",
   "metadata": {},
   "source": [
    "# k-nearest neighbors algorithm(k-nn, k 최근접 이웃)\n",
    "2017.12.02 <br>\n",
    "박지훈"
   ]
  },
  {
   "cell_type": "markdown",
   "metadata": {},
   "source": [
    "---"
   ]
  },
  {
   "cell_type": "markdown",
   "metadata": {},
   "source": [
    "k-nn"
   ]
  },
  {
   "cell_type": "markdown",
   "metadata": {},
   "source": [
    "---"
   ]
  },
  {
   "cell_type": "code",
   "execution_count": 1,
   "metadata": {
    "collapsed": true
   },
   "outputs": [],
   "source": [
    "# import packagae\n",
    "import numpy as np\n",
    "import matplotlib.pyplot as plt"
   ]
  },
  {
   "cell_type": "code",
   "execution_count": 55,
   "metadata": {
    "collapsed": true
   },
   "outputs": [],
   "source": [
    "# generage sample data\n",
    "data_1 = np.random.normal(10, 5, [10, 3])\n",
    "data_0 = np.random.normal(-10, 5, [10, 3])\n",
    "\n",
    "data_1[:, 2] = 1 #라벨 1\n",
    "data_0[:, 2] = 0 #라벨 0\n",
    "\n",
    "dataset = np.vstack((data_1, data_0))"
   ]
  },
  {
   "cell_type": "code",
   "execution_count": 40,
   "metadata": {},
   "outputs": [
    {
     "data": {
      "image/png": "[encoded data removed]",
      "text/plain": [
       "<matplotlib.figure.Figure at 0x813b0f0>"
      ]
     },
     "metadata": {},
     "output_type": "display_data"
    }
   ],
   "source": [
    "# visualization\n",
    "plt.scatter(data_0[:, 0], data_0[:, 1])\n",
    "plt.scatter(data_1[:, 0], data_1[:, 1])\n",
    "plt.show()"
   ]
  },
  {
   "cell_type": "code",
   "execution_count": 41,
   "metadata": {},
   "outputs": [
    {
     "data": {
      "image/png": "[encoded data removed]",
      "text/plain": [
       "<matplotlib.figure.Figure at 0x8240ac8>"
      ]
     },
     "metadata": {},
     "output_type": "display_data"
    }
   ],
   "source": [
    "plt.scatter(dataset[:, 0], dataset[:, 1], c=dataset[:, 2], cmap=\"Set1\")\n",
    "plt.show()"
   ]
  },
  {
   "cell_type": "code",
   "execution_count": 140,
   "metadata": {
    "collapsed": true
   },
   "outputs": [],
   "source": [
    "# k-nn 구현\n",
    "def KNN(dataset, K, class_data):\n",
    "    label = dataset[:, -1]\n",
    "    row_len = dataset.shape[0]\n",
    "    col_len = len(dataset[0])-1\n",
    "    \n",
    "    tile = np.tile(class_data, row_len).reshape(row_len, col_len)\n",
    "    \n",
    "    dist_1 = np.sum((dataset[:, :-1]-tile)**2, 1)\n",
    "    dist_2 = (dataset[:, :-1]-class_data)**2\n",
    "\n",
    "    vote = {1:np.count_nonzero(label[dist_1.argsort()][:K]), 0:K-np.count_nonzero(label[dist_1.argsort()][:K])}\n",
    "    \n",
    "    return tile, dist_1, dist_2, label, vote"
   ]
  },
  {
   "cell_type": "code",
   "execution_count": 143,
   "metadata": {},
   "outputs": [],
   "source": [
    "tile, dist_1, dist_2, label, vote = KNN(dataset, 2, b)"
   ]
  },
  {
   "cell_type": "code",
   "execution_count": null,
   "metadata": {
    "collapsed": true
   },
   "outputs": [],
   "source": []
  }
 ],
 "metadata": {
  "kernelspec": {
   "display_name": "Python 3",
   "language": "python",
   "name": "python3"
  },
  "language_info": {
   "codemirror_mode": {
    "name": "ipython",
    "version": 3
   },
   "file_extension": ".py",
   "mimetype": "text/x-python",
   "name": "python",
   "nbconvert_exporter": "python",
   "pygments_lexer": "ipython3",
   "version": "3.6.1"
  }
 },
 "nbformat": 4,
 "nbformat_minor": 2
}
