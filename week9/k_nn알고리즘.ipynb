{
 "cells": [
  {
   "cell_type": "code",
   "execution_count": 1,
   "metadata": {
    "collapsed": true
   },
   "outputs": [],
   "source": [
    "import numpy as np\n",
    "import pandas as pd\n",
    "from sklearn.cluster import KMeans"
   ]
  },
  {
   "cell_type": "markdown",
   "metadata": {},
   "source": [
    "0. data random으로 만들어주기\n",
    "1. k_means로 k개로 clustering 해주기\n",
    "1. 새로 넣을 점(임의로 만들기)과 기존의 점과의 거리 구하기\n",
    "2. 거리를 작은 순서대로 배열하기\n",
    "3. 배열한 것에서 k개 뽑아내기"
   ]
  },
  {
   "cell_type": "code",
   "execution_count": 3,
   "metadata": {
    "collapsed": true
   },
   "outputs": [],
   "source": [
    "def knn(x,n):\n",
    "    distance = np.sqrt(np.sum((data_x - new_x)**2, axis=1))\n",
    "    count_class = data_y[np.argsort(distance) <x]\n",
    "    count_list = np.random.randn(n)\n",
    "    \n",
    "    for i in range(n):\n",
    "        count_list[i]= np.count_nonzero(count_class==i)\n",
    "    return count_class, count_list, np.argmax(count_list)"
   ]
  },
  {
   "cell_type": "code",
   "execution_count": 11,
   "metadata": {},
   "outputs": [],
   "source": [
    "def knn2(n_1,n_2,x,z):\n",
    "    # n_1 : data개수, n_2 : data차원, x: clustering 개수, z: k-nn에서 k의 값\n",
    "    data_x = np.random.randn(n_1,n_2)\n",
    "    kmeans = KMeans(n_clusters=x,random_state=0).fit(data_x)\n",
    "    X_label = kmeans.labels_\n",
    "    new_x = np.random.randn(1,n_2)\n",
    "    \n",
    "    distance = np.sqrt(np.sum((data_x - new_x)**2, axis=1))\n",
    "    count_class = X_label[np.argsort(distance) <z]\n",
    "    count_list = np.random.randn(x)\n",
    "    \n",
    "    for i in range(x):\n",
    "        count_list[i]= np.count_nonzero(count_class==i)\n",
    "    \n",
    "    print(u\"최근접 {}개의 class :\".format(z), count_class,\"\\nclass별 개수 : \", count_list,\"\\n최종 class :\", np.argmax(count_list))"
   ]
  },
  {
   "cell_type": "code",
   "execution_count": 12,
   "metadata": {},
   "outputs": [
    {
     "name": "stdout",
     "output_type": "stream",
     "text": [
      "최근접 10개의 class : [1 0 2 0 0 1 1 1 0 2] \n",
      "class별 개수 :  [ 4.  4.  2.] \n",
      "최종 class : 0\n"
     ]
    }
   ],
   "source": [
    "knn2(100,2,3,10)"
   ]
  },
  {
   "cell_type": "code",
   "execution_count": null,
   "metadata": {
    "collapsed": true
   },
   "outputs": [],
   "source": []
  }
 ],
 "metadata": {
  "kernelspec": {
   "display_name": "Python 3",
   "language": "python",
   "name": "python3"
  },
  "language_info": {
   "codemirror_mode": {
    "name": "ipython",
    "version": 3
   },
   "file_extension": ".py",
   "mimetype": "text/x-python",
   "name": "python",
   "nbconvert_exporter": "python",
   "pygments_lexer": "ipython3",
   "version": "3.6.1"
  }
 },
 "nbformat": 4,
 "nbformat_minor": 2
}
