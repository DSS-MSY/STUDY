{
 "cells": [
  {
   "cell_type": "markdown",
   "metadata": {},
   "source": [
    "---"
   ]
  },
  {
   "cell_type": "markdown",
   "metadata": {},
   "source": [
    "# Support Vector Machines"
   ]
  },
  {
   "cell_type": "markdown",
   "metadata": {},
   "source": [
    "---"
   ]
  },
  {
   "cell_type": "code",
   "execution_count": 1,
   "metadata": {
    "collapsed": true
   },
   "outputs": [],
   "source": [
    "import matplotlib.pyplot as plt\n",
    "import tensorflow as tf\n",
    "import numpy as np"
   ]
  },
  {
   "cell_type": "code",
   "execution_count": 2,
   "metadata": {
    "collapsed": true
   },
   "outputs": [],
   "source": [
    "# generage sample data\n",
    "data_1 = np.random.normal(10, 5, [10, 3]) # 샘플데이터 1\n",
    "data_0 = np.random.normal(-10, 5, [10, 3]) # 샘플데이터 -1\n",
    "\n",
    "data_1[:, 2] = 1 # 라벨 1\n",
    "data_0[:, 2] = -1 # 라벨 -1\n",
    "\n",
    "dataset = np.vstack((data_1, data_0)) # 데이터 병합"
   ]
  },
  {
   "cell_type": "code",
   "execution_count": 3,
   "metadata": {},
   "outputs": [
    {
     "data": {
      "image/png": "[encoded data removed]",
      "text/plain": [
       "<matplotlib.figure.Figure at 0x11df7bdda90>"
      ]
     },
     "metadata": {},
     "output_type": "display_data"
    }
   ],
   "source": [
    "# visualization\n",
    "plt.style.use(\"ggplot\")\n",
    "plt.scatter(data_0[:, 0], data_0[:, 1], label=\"-1\", marker=\"o\")\n",
    "plt.scatter(data_1[:, 0], data_1[:, 1], label=\" 1\", marker=\"x\")\n",
    "plt.legend(loc=\"lower right\")\n",
    "plt.show()"
   ]
  },
  {
   "cell_type": "code",
   "execution_count": 4,
   "metadata": {},
   "outputs": [
    {
     "name": "stdout",
     "output_type": "stream",
     "text": [
      "[-0.19342294  9.67885886]\n"
     ]
    }
   ],
   "source": [
    "def svm_sgd(dataset):\n",
    "\n",
    "    w = np.zeros(len(dataset[0, :2]))\n",
    "    b = 0\n",
    "    eta = 1\n",
    "    epochs = 10000\n",
    "\n",
    "\n",
    "    for epoch in range(1,epochs):\n",
    "        for i, x in enumerate(dataset):\n",
    "            if (dataset[i, -1]*np.dot(dataset[i, :2], w)+b) < 1:\n",
    "                w = w + eta * ((dataset[i, :2] * dataset[i, -1]) + (-2  *(1/epoch)* w))\n",
    "\n",
    "            else:\n",
    "                w = w + eta * (-2  *(1/epoch)* w)\n",
    "\n",
    "    return w\n",
    "\n",
    "w = svm_sgd(dataset)\n",
    "print(w)"
   ]
  },
  {
   "cell_type": "code",
   "execution_count": 84,
   "metadata": {},
   "outputs": [
    {
     "data": {
      "text/plain": [
       "array([ 3.64383965,  5.71991677])"
      ]
     },
     "execution_count": 84,
     "metadata": {},
     "output_type": "execute_result"
    }
   ],
   "source": [
    "w"
   ]
  },
  {
   "cell_type": "code",
   "execution_count": 5,
   "metadata": {
    "collapsed": true
   },
   "outputs": [],
   "source": [
    "x = np.arange(-20, 21)\n",
    "y = (w[0]*x)/-w[1]"
   ]
  },
  {
   "cell_type": "code",
   "execution_count": 6,
   "metadata": {},
   "outputs": [
    {
     "data": {
      "image/png": "[encoded data removed]",
      "text/plain": [
       "<matplotlib.figure.Figure at 0x11dfe659320>"
      ]
     },
     "metadata": {},
     "output_type": "display_data"
    }
   ],
   "source": [
    "plt.scatter(data_0[:, 0], data_0[:, 1], label=\"-1\", marker=\"o\")\n",
    "plt.scatter(data_1[:, 0], data_1[:, 1], label=\" 1\", marker=\"x\")\n",
    "plt.legend(loc=\"lower right\")\n",
    "plt.plot(x, y)\n",
    "plt.show()"
   ]
  },
  {
   "cell_type": "code",
   "execution_count": 7,
   "metadata": {},
   "outputs": [
    {
     "data": {
      "image/png": "[encoded data removed]",
      "text/plain": [
       "<matplotlib.figure.Figure at 0x11dfe648a58>"
      ]
     },
     "metadata": {},
     "output_type": "display_data"
    }
   ],
   "source": [
    "plt.scatter(data_0[:, 0], data_0[:, 1], label=\"-1\", marker=\"o\")\n",
    "plt.scatter(data_1[:, 0], data_1[:, 1], label=\" 1\", marker=\"x\")\n",
    "plt.legend(loc=\"lower right\")\n",
    "plt.plot(x, y)\n",
    "plt.ylim([-20, 26])\n",
    "plt.show()"
   ]
  },
  {
   "cell_type": "code",
   "execution_count": null,
   "metadata": {
    "collapsed": true
   },
   "outputs": [],
   "source": []
  }
 ],
 "metadata": {
  "kernelspec": {
   "display_name": "Python 3",
   "language": "python",
   "name": "python3"
  },
  "language_info": {
   "codemirror_mode": {
    "name": "ipython",
    "version": 3
   },
   "file_extension": ".py",
   "mimetype": "text/x-python",
   "name": "python",
   "nbconvert_exporter": "python",
   "pygments_lexer": "ipython3",
   "version": "3.6.3"
  }
 },
 "nbformat": 4,
 "nbformat_minor": 2
}
