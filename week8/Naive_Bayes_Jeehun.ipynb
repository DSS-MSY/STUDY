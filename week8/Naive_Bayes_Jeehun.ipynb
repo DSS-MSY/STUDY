{
 "cells": [
  {
   "cell_type": "markdown",
   "metadata": {},
   "source": [
    "---"
   ]
  },
  {
   "cell_type": "markdown",
   "metadata": {},
   "source": [
    "# Navie Bayes(나이브 베이즈)\n",
    "2017.11.27<br>\n",
    "박지훈"
   ]
  },
  {
   "cell_type": "markdown",
   "metadata": {},
   "source": [
    "---"
   ]
  },
  {
   "cell_type": "markdown",
   "metadata": {},
   "source": []
  },
  {
   "cell_type": "markdown",
   "metadata": {},
   "source": [
    "---"
   ]
  },
  {
   "cell_type": "code",
   "execution_count": 1,
   "metadata": {
    "collapsed": true
   },
   "outputs": [],
   "source": [
    "# importing packages\n",
    "import numpy as np\n"
   ]
  },
  {
   "cell_type": "code",
   "execution_count": 2,
   "metadata": {
    "collapsed": true
   },
   "outputs": [],
   "source": [
    "# make a dataset\n",
    "def make_data():\n",
    "    data = np.array([[1, 0, 1, 0],\n",
    "                     [1, 1, 1, 1], \n",
    "                     [1, 0, 0, 1], \n",
    "                     [0, 0, 1, 1], \n",
    "                     [1, 1, 1, 0], \n",
    "                     [0, 0, 1, 0], \n",
    "                     [0, 1, 0, 1], \n",
    "                     [1, 0, 1, 0], \n",
    "                     [1, 0, 0, 0], \n",
    "                     [0, 0, 1, 1]])\n",
    "    \n",
    "    classes = np.array([1, 1, 1, 1, 0, 0, 0, 0, 0, 0])\n",
    "    \n",
    "    return data, classes"
   ]
  },
  {
   "cell_type": "code",
   "execution_count": null,
   "metadata": {
    "collapsed": true
   },
   "outputs": [],
   "source": []
  }
 ],
 "metadata": {
  "kernelspec": {
   "display_name": "Python 3",
   "language": "python",
   "name": "python3"
  },
  "language_info": {
   "codemirror_mode": {
    "name": "ipython",
    "version": 3
   },
   "file_extension": ".py",
   "mimetype": "text/x-python",
   "name": "python",
   "nbconvert_exporter": "python",
   "pygments_lexer": "ipython3",
   "version": "3.6.3"
  }
 },
 "nbformat": 4,
 "nbformat_minor": 2
}
