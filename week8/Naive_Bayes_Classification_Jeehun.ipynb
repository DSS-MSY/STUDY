{
 "cells": [
  {
   "cell_type": "markdown",
   "metadata": {},
   "source": [
    "---"
   ]
  },
  {
   "cell_type": "markdown",
   "metadata": {},
   "source": [
    "# Naive Bayes Classification(나이브 베이즈 분류)\n",
    "2017.11.27<br>\n",
    "박지훈"
   ]
  },
  {
   "cell_type": "markdown",
   "metadata": {},
   "source": [
    "---"
   ]
  },
  {
   "cell_type": "markdown",
   "metadata": {},
   "source": [
    "__베이즈 정리(Bayes's Theorem)__: 불확실성 하에서 의사결정문제를 수학적으로 다둘 때 중요하게 이용된다. 특히, 정보와 같이 눈에 보이지 않는 무형자산이 지닌 가치를 계산할 때 유용하게 사용된다. 전통적인 확률이 연역적 추론에 기반을 두고 있다면 베이즈 정리는 확률임에도 불구하고 귀납적, 경험적인 추론을 사용한다. <br>\n",
    "__조건부 확률(Conditional Probability)__: 어떤 특정 사건 B가 발생했을때 사건 A가 발생할 확률 수식으로는 $P(A|B)$ 로 표현한다.<br>\n",
    "각 사건이 독립일 경우 조건부 확률은 각 사건의 곱과 같다. 그러므로 $P(A|B) = P(A)$이고 $P(B|A) = P(B)$ 이다. <br>\n",
    "__라플라스 스무딩(Laplace Smoothing)__: 그 전에 관측되지 못한 새로운 데이터를 분류해야 할때 확률값이 0이되는걸 막기위해 분자와 분모에 1씩 더한다."
   ]
  },
  {
   "cell_type": "markdown",
   "metadata": {},
   "source": [
    "---"
   ]
  },
  {
   "cell_type": "code",
   "execution_count": 1,
   "metadata": {
    "collapsed": true
   },
   "outputs": [],
   "source": [
    "# importing packages\n",
    "import numpy as np"
   ]
  },
  {
   "cell_type": "code",
   "execution_count": 2,
   "metadata": {
    "collapsed": true
   },
   "outputs": [],
   "source": [
    "# make a dataset\n",
    "def make_data():\n",
    "    data = np.array([[1, 0, 1, 0],\n",
    "                     [1, 1, 1, 1], \n",
    "                     [1, 0, 0, 1], \n",
    "                     [0, 0, 1, 1], \n",
    "                     [1, 1, 1, 0], \n",
    "                     [0, 0, 1, 0], \n",
    "                     [0, 1, 0, 1], \n",
    "                     [1, 0, 1, 0], \n",
    "                     [1, 0, 0, 0], \n",
    "                     [0, 0, 1, 1]])\n",
    "    \n",
    "    classes = np.array([1, 1, 1, 1, 0, 0, 0, 0, 0, 0])\n",
    "    \n",
    "    return data, classes"
   ]
  },
  {
   "cell_type": "code",
   "execution_count": 93,
   "metadata": {},
   "outputs": [],
   "source": [
    "def count_prob(dataset, classes):\n",
    "    \n",
    "    label = np.unique(classes)\n",
    "    prob_class = []\n",
    "    data_class = []\n",
    "    con_prob = []\n",
    "    prob = []\n",
    "    \n",
    "    for i in label:\n",
    "        prob_class.append(len(classes[classes==i])/len(classes))\n",
    "        data_class.append(dataset[classes==i])\n",
    "    \n",
    "    for j in range(len(data_class)):\n",
    "        con_prob.append(np.sum(c[j], axis=0))\n",
    "    \n",
    "    for k in range(len(data_class)):\n",
    "        prob.append(con_prob[k]/len(data_class[k]))\n",
    "\n",
    "    return label, prob_class, data_class, con_prob, prob"
   ]
  },
  {
   "cell_type": "code",
   "execution_count": 89,
   "metadata": {
    "scrolled": false
   },
   "outputs": [],
   "source": [
    "def classification(data):\n",
    "    "
   ]
  },
  {
   "cell_type": "code",
   "execution_count": 90,
   "metadata": {},
   "outputs": [],
   "source": [
    "data, label = make_data()"
   ]
  },
  {
   "cell_type": "code",
   "execution_count": 94,
   "metadata": {},
   "outputs": [],
   "source": [
    "a, b, c, d, e = count_prob(data, label)"
   ]
  },
  {
   "cell_type": "code",
   "execution_count": 78,
   "metadata": {},
   "outputs": [
    {
     "data": {
      "text/plain": [
       "array([ 0.5       ,  0.16666667,  0.5       ,  0.5       ])"
      ]
     },
     "execution_count": 78,
     "metadata": {},
     "output_type": "execute_result"
    }
   ],
   "source": [
    "d[1]/6"
   ]
  },
  {
   "cell_type": "code",
   "execution_count": null,
   "metadata": {
    "collapsed": true
   },
   "outputs": [],
   "source": []
  }
 ],
 "metadata": {
  "kernelspec": {
   "display_name": "Python 3",
   "language": "python",
   "name": "python3"
  },
  "language_info": {
   "codemirror_mode": {
    "name": "ipython",
    "version": 3
   },
   "file_extension": ".py",
   "mimetype": "text/x-python",
   "name": "python",
   "nbconvert_exporter": "python",
   "pygments_lexer": "ipython3",
   "version": "3.6.3"
  }
 },
 "nbformat": 4,
 "nbformat_minor": 2
}
