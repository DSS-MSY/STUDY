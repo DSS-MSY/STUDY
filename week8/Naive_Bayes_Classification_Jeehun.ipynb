{
 "cells": [
  {
   "cell_type": "markdown",
   "metadata": {},
   "source": [
    "---"
   ]
  },
  {
   "cell_type": "markdown",
   "metadata": {},
   "source": [
    "# Navie Bayes Classification(나이브 베이즈 분류)\n",
    "2017.11.27<br>\n",
    "박지훈"
   ]
  },
  {
   "cell_type": "markdown",
   "metadata": {},
   "source": [
    "---"
   ]
  },
  {
   "cell_type": "markdown",
   "metadata": {},
   "source": [
    "__베이즈 정리(Bayes's Theorem)__: <br>\n",
    "__조건부 확률(Conditional Probability)__: 어떤 특정 사건 B가 발생했을때 사건 A가 발생할 확률 수식으로는 $P(A|B)$ 로 표현한다.<br>\n",
    "각 사건이 독립일 경우 조건부 확률은 각 사건의 곱과 같다. 그러므로 $P(A|B) = P(A)$이고 $P(B|A) = P(B)$ 이다. <br>\n",
    "__라플라스 스무딩(Laplace Smoothing)__: 그 전에 관측되지 못한 새로운 데이터를 분류해야 할때 확률값이 0이되는걸 막기위해 분자와 분모에 1씩 더한다."
   ]
  },
  {
   "cell_type": "markdown",
   "metadata": {},
   "source": [
    "---"
   ]
  },
  {
   "cell_type": "code",
   "execution_count": 1,
   "metadata": {
    "collapsed": true
   },
   "outputs": [],
   "source": [
    "# importing packages\n",
    "import numpy as np"
   ]
  },
  {
   "cell_type": "code",
   "execution_count": 2,
   "metadata": {
    "collapsed": true
   },
   "outputs": [],
   "source": [
    "# make a dataset\n",
    "def make_data():\n",
    "    data = np.array([[1, 0, 1, 0],\n",
    "                     [1, 1, 1, 1], \n",
    "                     [1, 0, 0, 1], \n",
    "                     [0, 0, 1, 1], \n",
    "                     [1, 1, 1, 0], \n",
    "                     [0, 0, 1, 0], \n",
    "                     [0, 1, 0, 1], \n",
    "                     [1, 0, 1, 0], \n",
    "                     [1, 0, 0, 0], \n",
    "                     [0, 0, 1, 1]])\n",
    "    \n",
    "    classes = np.array([1, 1, 1, 1, 0, 0, 0, 0, 0, 0])\n",
    "    \n",
    "    return data, classes"
   ]
  },
  {
   "cell_type": "code",
   "execution_count": null,
   "metadata": {
    "collapsed": true
   },
   "outputs": [],
   "source": []
  }
 ],
 "metadata": {
  "kernelspec": {
   "display_name": "Python 3",
   "language": "python",
   "name": "python3"
  },
  "language_info": {
   "codemirror_mode": {
    "name": "ipython",
    "version": 3
   },
   "file_extension": ".py",
   "mimetype": "text/x-python",
   "name": "python",
   "nbconvert_exporter": "python",
   "pygments_lexer": "ipython3",
   "version": "3.6.3"
  }
 },
 "nbformat": 4,
 "nbformat_minor": 2
}
